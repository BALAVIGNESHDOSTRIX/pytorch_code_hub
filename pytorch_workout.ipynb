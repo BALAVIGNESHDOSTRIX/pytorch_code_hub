{
  "nbformat": 4,
  "nbformat_minor": 0,
  "metadata": {
    "colab": {
      "name": "pytorch_workout.ipynb",
      "provenance": [],
      "collapsed_sections": []
    },
    "kernelspec": {
      "name": "python3",
      "display_name": "Python 3"
    },
    "language_info": {
      "name": "python"
    },
    "accelerator": "GPU",
    "gpuClass": "standard"
  },
  "cells": [
    {
      "cell_type": "code",
      "execution_count": null,
      "metadata": {
        "id": "MnkdBwNv3ZqQ"
      },
      "outputs": [],
      "source": [
        "import torch\n",
        "import torch.nn as nn\n",
        "import torchvision\n",
        "import torchvision.transforms as transforms\n",
        "\n",
        "import matplotlib.pyplot as plt"
      ]
    },
    {
      "cell_type": "code",
      "source": [
        "# device config\n",
        "\n",
        "device = torch.device('cuda')"
      ],
      "metadata": {
        "id": "XRjfW9-K4VeU"
      },
      "execution_count": null,
      "outputs": []
    },
    {
      "cell_type": "code",
      "source": [
        "# hyper parameters\n",
        "\n",
        "input_size = 784\n",
        "hidden_size = 100\n",
        "num_classes = 10\n",
        "num_epochs = 5\n",
        "batch_size = 100\n",
        "learning_rate = 0.001"
      ],
      "metadata": {
        "id": "LiI2p8zR7lx8"
      },
      "execution_count": null,
      "outputs": []
    },
    {
      "cell_type": "code",
      "source": [
        "train_data = torchvision.datasets.MNIST(root='./data', train=True, transform=transforms.ToTensor(), download=True)"
      ],
      "metadata": {
        "id": "Cs6ZcgdW73Rb"
      },
      "execution_count": null,
      "outputs": []
    },
    {
      "cell_type": "code",
      "source": [
        "test_data = torchvision.datasets.MNIST(root='./data', train=False, transform=transforms.ToTensor(), download=True)"
      ],
      "metadata": {
        "id": "CzxccvOy8Wff"
      },
      "execution_count": null,
      "outputs": []
    },
    {
      "cell_type": "code",
      "source": [
        "train_loader = torch.utils.data.DataLoader(dataset=train_data, batch_size=batch_size, shuffle=True)\n",
        "test_loader = torch.utils.data.DataLoader(dataset=test_data, batch_size=batch_size, shuffle=False)"
      ],
      "metadata": {
        "id": "WKhQh4rC8j7I"
      },
      "execution_count": null,
      "outputs": []
    },
    {
      "cell_type": "code",
      "source": [
        "examples = iter(train_loader)\n",
        "sample, label = examples.next()\n",
        "\n",
        "print(sample.shape, label.shape)"
      ],
      "metadata": {
        "colab": {
          "base_uri": "https://localhost:8080/"
        },
        "id": "FunjB9Cp9D5J",
        "outputId": "b03d3e8a-a98e-4ee5-ab4f-a042759055e8"
      },
      "execution_count": null,
      "outputs": [
        {
          "output_type": "stream",
          "name": "stdout",
          "text": [
            "torch.Size([100, 1, 28, 28]) torch.Size([100])\n"
          ]
        }
      ]
    },
    {
      "cell_type": "code",
      "source": [
        "class Neuralnet(nn.Module):\n",
        "  def __init__(self, input_size, hidden_size, num_class):\n",
        "    super(Neuralnet, self).__init__()\n",
        "    self.l1 = nn.Linear(input_size, hidden_size)\n",
        "    self.relu = nn.ReLU()\n",
        "    self.l2 = nn.Linear(hidden_size, num_class)\n",
        "\n",
        "  def forward(self, samples):\n",
        "    out = self.l1(samples)\n",
        "    out = self.relu(out)\n",
        "    out = self.l2(out)\n",
        "    return out\n",
        "\n",
        "\n",
        "model = Neuralnet(input_size, hidden_size, num_classes)\n",
        "model.to(device)\n",
        "\n",
        "# loss and optimizer\n",
        "loss_func = nn.CrossEntropyLoss()\n",
        "optimizer = torch.optim.Adam(model.parameters(), lr=learning_rate)\n",
        "\n",
        "\n",
        "#training loop\n",
        "\n",
        "n_total_steps = len(train_loader)\n",
        "\n",
        "for epoch in range(num_epochs):\n",
        "  for i, (images, labels) in enumerate(train_loader):\n",
        "    # 100, 1, 28, 28\n",
        "    # 100, 784\n",
        "    images = images.reshape(-1, 28*28).to(device)\n",
        "    labels = labels.to(device)\n",
        "\n",
        "    #forward\n",
        "    outputs = model(images)\n",
        "    loss = loss_func(outputs, labels)\n",
        "\n",
        "    # backwards\n",
        "    optimizer.zero_grad() # empty the graidents\n",
        "    loss.backward() # process the backpropagation\n",
        "    optimizer.step() # update the weights\n",
        "\n",
        "    if (i + 1) % 100 == 0:\n",
        "      print (f'Epoch [{epoch+1}/{num_epochs}], Step [{i+1}/{n_total_steps}], Loss: {loss.item():.4f}')\n",
        "\n",
        "with torch.no_grad():\n",
        "  n_corr = 0\n",
        "  n_samp = 0\n",
        "  for images, labels in test_loader:\n",
        "    images = images.reshape(-1, 28*28).to(device)\n",
        "    labels = labels.to(device)\n",
        "    outputs = model(images)\n",
        "\n",
        "    #value, index\n",
        "    _, predictions = torch.max(outputs, 1)\n",
        "    n_samp += labels.shape[0]\n",
        "    n_corr = (predictions == labels).sum().item()\n",
        "\n",
        "  acc = 100.0 * n_corr / n_samp \n",
        "  print(\"accuracy:\", acc)"
      ],
      "metadata": {
        "colab": {
          "base_uri": "https://localhost:8080/"
        },
        "id": "fz3_FRQ39W4E",
        "outputId": "e132a934-6537-4ba1-e392-7b8736b22789"
      },
      "execution_count": null,
      "outputs": [
        {
          "output_type": "stream",
          "name": "stdout",
          "text": [
            "Epoch [1/3], Step [100/600], Loss: 0.4438\n",
            "Epoch [1/3], Step [200/600], Loss: 0.2700\n",
            "Epoch [1/3], Step [300/600], Loss: 0.2818\n",
            "Epoch [1/3], Step [400/600], Loss: 0.3984\n",
            "Epoch [1/3], Step [500/600], Loss: 0.1943\n",
            "Epoch [1/3], Step [600/600], Loss: 0.1980\n",
            "Epoch [2/3], Step [100/600], Loss: 0.2226\n",
            "Epoch [2/3], Step [200/600], Loss: 0.1768\n",
            "Epoch [2/3], Step [300/600], Loss: 0.1205\n",
            "Epoch [2/3], Step [400/600], Loss: 0.1860\n",
            "Epoch [2/3], Step [500/600], Loss: 0.1354\n",
            "Epoch [2/3], Step [600/600], Loss: 0.2614\n",
            "Epoch [3/3], Step [100/600], Loss: 0.1446\n",
            "Epoch [3/3], Step [200/600], Loss: 0.1819\n",
            "Epoch [3/3], Step [300/600], Loss: 0.1918\n",
            "Epoch [3/3], Step [400/600], Loss: 0.1411\n",
            "Epoch [3/3], Step [500/600], Loss: 0.1738\n",
            "Epoch [3/3], Step [600/600], Loss: 0.0765\n",
            "accuracy: 0.95\n"
          ]
        }
      ]
    },
    {
      "cell_type": "code",
      "source": [
        ""
      ],
      "metadata": {
        "id": "yRsD5EMjEpEQ"
      },
      "execution_count": null,
      "outputs": []
    }
  ]
}
